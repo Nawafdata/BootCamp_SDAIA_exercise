{
 "cells": [
  {
   "cell_type": "markdown",
   "metadata": {
    "id": "0PzxgQHw9ccz"
   },
   "source": [
    "#**SVD**"
   ]
  },
  {
   "cell_type": "markdown",
   "metadata": {
    "id": "luFPiQ2i9myX"
   },
   "source": [
    "#import libraries"
   ]
  },
  {
   "cell_type": "code",
   "execution_count": 1,
   "metadata": {
    "id": "G-4zglvy9WkS"
   },
   "outputs": [],
   "source": [
    "import numpy as np"
   ]
  },
  {
   "cell_type": "markdown",
   "metadata": {
    "id": "nZFDaio79sgu"
   },
   "source": [
    "#Load the tabular dataset :\n",
    "\n",
    "dataset :\n",
    "\n",
    "\n",
    "    [1, 2, 1, 0, 4],\n",
    "\n",
    "    [2, 3, 4, 0, 2],\n",
    "\n",
    "    [3, 1, 1, 0, 5],\n",
    "\n",
    "    [4, 0, 2, 5, 0],\n",
    "\n",
    "    [5, 4, 0, 1, 2]\n"
   ]
  },
  {
   "cell_type": "code",
   "execution_count": 2,
   "metadata": {
    "id": "MQ009CYG9qQS"
   },
   "outputs": [],
   "source": [
    "dataset = np.array([\n",
    "    [2, 1, 0, 4],\n",
    "    [3, 4, 0, 2],\n",
    "    [1, 1, 0, 5],\n",
    "    [0, 2, 5, 0],\n",
    "    [4, 0, 1, 2]\n",
    "])\n"
   ]
  },
  {
   "cell_type": "markdown",
   "metadata": {
    "id": "2roOK1gZ9yQo"
   },
   "source": [
    "#Perform Singular Value Decomposition (SVD)\n"
   ]
  },
  {
   "cell_type": "code",
   "execution_count": 3,
   "metadata": {
    "id": "0I7M_W_E9vka"
   },
   "outputs": [],
   "source": [
    "U, s, VT = np.linalg.svd(dataset)\n"
   ]
  },
  {
   "cell_type": "markdown",
   "metadata": {
    "id": "5ygCLQNt96Vb"
   },
   "source": [
    "# Extract the singular values and vectors"
   ]
  },
  {
   "cell_type": "code",
   "execution_count": 4,
   "metadata": {
    "id": "d_hE13Sn94k5"
   },
   "outputs": [],
   "source": [
    "singular_values = np.diag(s)\n",
    "left_singular_vectors = U\n",
    "right_singular_vectors = VT.T\n"
   ]
  },
  {
   "cell_type": "markdown",
   "metadata": {
    "id": "piU0jgug9_gD"
   },
   "source": [
    "# Perform dimensionality reduction by selecting top k singular values and vectors\n"
   ]
  },
  {
   "cell_type": "code",
   "execution_count": 7,
   "metadata": {
    "id": "c55uNNCH9-5d"
   },
   "outputs": [],
   "source": [
    "k = 2\n",
    "reduced_dataset = np.dot(np.dot(left_singular_vectors[:, :k], singular_values[:k, :k]), right_singular_vectors[:, :k].T)\n"
   ]
  },
  {
   "cell_type": "markdown",
   "metadata": {
    "id": "4raXfdzz-Gex"
   },
   "source": [
    "# Print the original and reduced datasets\n"
   ]
  },
  {
   "cell_type": "code",
   "execution_count": 6,
   "metadata": {
    "id": "c7YIIN3S-DTl"
   },
   "outputs": [
    {
     "name": "stdout",
     "output_type": "stream",
     "text": [
      "Original Dataset:\n",
      "[[2 1 0 4]\n",
      " [3 4 0 2]\n",
      " [1 1 0 5]\n",
      " [0 2 5 0]\n",
      " [4 0 1 2]]\n",
      "\n",
      "Reduced Dataset:\n",
      "[[ 2.42783083  1.34469234 -0.28088786  3.55528003]\n",
      " [ 2.48095375  2.03039214  1.21169626  3.19513057]\n",
      " [ 2.54437376  1.32108273 -0.49569821  3.78477327]\n",
      " [ 0.56412157  2.38529993  4.66847769 -0.55714942]\n",
      " [ 2.03649155  1.48065473  0.56987114  2.74683942]]\n"
     ]
    }
   ],
   "source": [
    "print(\"Original Dataset:\")\n",
    "print(dataset)\n",
    "print(\"\\nReduced Dataset:\")\n",
    "print(reduced_dataset)\n"
   ]
  },
  {
   "cell_type": "markdown",
   "metadata": {
    "id": "ASLB0yos-Ofm"
   },
   "source": [
    "#**Well done :)**"
   ]
  }
 ],
 "metadata": {
  "colab": {
   "provenance": []
  },
  "kernelspec": {
   "display_name": "Python 3 (ipykernel)",
   "language": "python",
   "name": "python3"
  },
  "language_info": {
   "codemirror_mode": {
    "name": "ipython",
    "version": 3
   },
   "file_extension": ".py",
   "mimetype": "text/x-python",
   "name": "python",
   "nbconvert_exporter": "python",
   "pygments_lexer": "ipython3",
   "version": "3.9.13"
  }
 },
 "nbformat": 4,
 "nbformat_minor": 1
}
