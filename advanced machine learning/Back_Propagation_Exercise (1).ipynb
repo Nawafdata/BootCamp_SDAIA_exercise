{
 "cells": [
  {
   "cell_type": "markdown",
   "metadata": {
    "id": "E9uCkFiBGnWc"
   },
   "source": [
    "#**Back Propagation**"
   ]
  },
  {
   "cell_type": "markdown",
   "metadata": {
    "id": "U02xjPIyG1cZ"
   },
   "source": [
    "#Step 1 : import libraries"
   ]
  },
  {
   "cell_type": "code",
   "execution_count": 69,
   "metadata": {
    "id": "Fx3E4_efG5Do"
   },
   "outputs": [],
   "source": [
    "import numpy as np\n",
    "import pandas as pd\n",
    "from sklearn.model_selection import train_test_split\n",
    "import matplotlib.pyplot as plt\n",
    "import seaborn as sns\n",
    "from sklearn.preprocessing import LabelEncoder"
   ]
  },
  {
   "cell_type": "markdown",
   "metadata": {
    "id": "eHvhfU6MGtpk"
   },
   "source": [
    "#Step 2 :Load the Dataset\n",
    "###Upload palmer penguins dataset \" / LAB/ Dataset/ penguins.csv\n",
    "\n",
    "\n",
    "\n"
   ]
  },
  {
   "cell_type": "code",
   "execution_count": 70,
   "metadata": {},
   "outputs": [],
   "source": [
    "data = sns.load_dataset(\"penguins\")"
   ]
  },
  {
   "cell_type": "code",
   "execution_count": 71,
   "metadata": {
    "id": "btqadzfLGmQD"
   },
   "outputs": [],
   "source": [
    "penguins = penguins.dropna()\n",
    "X = penguins.drop('species', axis=1)\n",
    "y = penguins['species']"
   ]
  },
  {
   "cell_type": "code",
   "execution_count": 72,
   "metadata": {},
   "outputs": [],
   "source": [
    "\n",
    "le = LabelEncoder()\n",
    "X['island'] = le.fit_transform(X['island'])\n",
    "X['sex'] = le.fit_transform(X['sex'])\n"
   ]
  },
  {
   "cell_type": "code",
   "execution_count": 73,
   "metadata": {},
   "outputs": [],
   "source": [
    "y = le.fit_transform(y)"
   ]
  },
  {
   "cell_type": "markdown",
   "metadata": {
    "id": "cuyxnZAWHIGk"
   },
   "source": [
    "#Step 3: Split Dataset in Training and Testing\n"
   ]
  },
  {
   "cell_type": "code",
   "execution_count": 74,
   "metadata": {
    "id": "TMNbaJekHCid"
   },
   "outputs": [],
   "source": [
    "# Split dataset into training and test sets\n",
    "X_train, X_test, y_train, y_test = train_test_split(X, y, test_size=20, random_state=4)"
   ]
  },
  {
   "cell_type": "markdown",
   "metadata": {
    "id": "yfoa5GAXHhUD"
   },
   "source": [
    "# Step 4 : initializing the hyperparameters"
   ]
  },
  {
   "cell_type": "code",
   "execution_count": 75,
   "metadata": {
    "id": "gCYVcC4THc7i"
   },
   "outputs": [],
   "source": [
    "\n",
    "learning_rate = 0.2\n",
    "iterations = 4000\n",
    "N = y_train.size\n",
    "# Input features\n",
    "input_size = 6\n",
    "# Hidden layers\n",
    "hidden_size = 4\n",
    "\n",
    "# Output layer\n",
    "output_size = 3\n"
   ]
  },
  {
   "cell_type": "markdown",
   "metadata": {
    "id": "IHrgBvH7HtCr"
   },
   "source": [
    "#Step 5 : Initialize Weights"
   ]
  },
  {
   "cell_type": "code",
   "execution_count": 76,
   "metadata": {
    "id": "RAba9ZSXHwvm"
   },
   "outputs": [],
   "source": [
    "\n",
    "np.random.seed(10)\n",
    "\n",
    "# Hidden layer\n",
    "W1 = np.random.normal(scale=0.5, size=(input_size, hidden_size))\n",
    "\n",
    "# Output layer\n",
    "W2 = np.random.normal(scale=0.5, size=(hidden_size , output_size))\n"
   ]
  },
  {
   "cell_type": "markdown",
   "metadata": {
    "id": "IE37VIICH1QA"
   },
   "source": [
    "#Step 6 : mean squared error, accuracy and sigmoid.\n",
    "\n"
   ]
  },
  {
   "cell_type": "code",
   "execution_count": 77,
   "metadata": {
    "id": "sLYRpQ-HH0ms"
   },
   "outputs": [
    {
     "name": "stdout",
     "output_type": "stream",
     "text": [
      "[0 1 2]\n"
     ]
    }
   ],
   "source": [
    "def sigmoid(x):\n",
    "    return 1 / (1 + np.exp(-x))\n",
    "\n",
    "def mean_squared_error(y_pred, y_true):\n",
    "=\n",
    "    y_true_one_hot = np.eye(output_size)[y_true]\n",
    "\n",
    "\n",
    "    y_true_reshaped = y_true_one_hot.reshape(y_pred.shape)\n",
    "\n",
    "    error = ((y_pred - y_true_reshaped)**2).sum() / (2*y_pred.size)\n",
    "\n",
    "    return error\n",
    "\n",
    "def accuracy(y_pred, y_true):\n",
    "    acc = y_pred.argmax(axis=1) ==  y_true.argmax(axis=1)\n",
    "    return acc.mean()\n",
    "\n",
    "results = pd.DataFrame(columns=[\"mse\", \"accuracy\"])\n",
    "\n",
    "print(np.unique(y_train))\n",
    "\n"
   ]
  },
  {
   "cell_type": "markdown",
   "metadata": {
    "id": "g1AZMCfcIqMi"
   },
   "source": [
    "#Step 7 : Building the Backpropogation Model in Python\n",
    "###We will create a for loop for a given number of iterations and will update the weights in each iteration. The model will go through three phases feedforward propagation, the error calculation phase, and the backpropagation phase.\n"
   ]
  },
  {
   "cell_type": "code",
   "execution_count": 78,
   "metadata": {
    "id": "B-bjwuX2ILsm"
   },
   "outputs": [
    {
     "name": "stderr",
     "output_type": "stream",
     "text": [
      "C:\\Users\\ByLix\\AppData\\Local\\Temp\\ipykernel_25716\\975769523.py:3: RuntimeWarning: overflow encountered in exp\n",
      "  return 1 / (1 + np.exp(-x))\n"
     ]
    }
   ],
   "source": [
    "\n",
    "for itr in range(iterations):\n",
    "    # Feedforward propagation\n",
    "    Z1 = np.dot(X_train, W1)\n",
    "    A1 = sigmoid(Z1)\n",
    "    Z2 = np.dot(A1, W2)\n",
    "    A2 = sigmoid(Z2)\n",
    "\n",
    "    mse = mean_squared_error(A2, y_train)\n",
    "    acc = accuracy(np.eye(output_size)[y_train], A2)\n",
    "    new_row = pd.DataFrame({\"mse\": [mse], \"accuracy\": [acc]})\n",
    "    results = pd.concat([results, new_row], ignore_index=True)\n",
    "\n",
    "    E1 = A2 - np.eye(output_size)[y_train]\n",
    "    dW1 = E1 * A2 * (1 - A2)\n",
    "    E2 = np.dot(dW1, W2.T)\n",
    "    dW2 = E2 * A1 * (1 - A1)\n",
    "\n",
    "    W2_update = np.dot(A1.T, dW1) / N\n",
    "    W1_update = np.dot(X_train.T, dW2) / N\n",
    "    W2 = W2 - learning_rate * W2_update\n",
    "    W1 = W1 - learning_rate * W1_update\n"
   ]
  },
  {
   "cell_type": "markdown",
   "metadata": {
    "id": "ByknpjOWJVBv"
   },
   "source": []
  },
  {
   "cell_type": "markdown",
   "metadata": {
    "id": "NZitfndrLnI8"
   },
   "source": [
    "# Step 8 : Plot the mean squared error and accuracy using the pandas plot() function.\n",
    "\n"
   ]
  },
  {
   "cell_type": "code",
   "execution_count": 79,
   "metadata": {
    "id": "1f6f-aMMLsfa"
   },
   "outputs": [
    {
     "data": {
      "image/png": "[encoded data removed]",
      "text/plain": [
       "<Figure size 640x480 with 1 Axes>"
      ]
     },
     "metadata": {},
     "output_type": "display_data"
    },
    {
     "data": {
      "image/png": "[encoded data removed]",
      "text/plain": [
       "<Figure size 640x480 with 1 Axes>"
      ]
     },
     "metadata": {},
     "output_type": "display_data"
    }
   ],
   "source": [
    "results.mse.plot(title=\"Mean Squared Error\")\n",
    "plt.show()\n",
    "results.accuracy.plot(title=\"Accuracy\")\n",
    "plt.show()\n"
   ]
  },
  {
   "cell_type": "markdown",
   "metadata": {
    "id": "M1ES5bR_Lzy1"
   },
   "source": [
    "###Now we will calculate the accuracy of the model.\n",
    "\n"
   ]
  },
  {
   "cell_type": "code",
   "execution_count": 80,
   "metadata": {
    "id": "_YvQLRVRLzK9"
   },
   "outputs": [
    {
     "name": "stdout",
     "output_type": "stream",
     "text": [
      "Test accuracy: 0.6\n"
     ]
    },
    {
     "name": "stderr",
     "output_type": "stream",
     "text": [
      "C:\\Users\\ByLix\\AppData\\Local\\Temp\\ipykernel_25716\\975769523.py:3: RuntimeWarning: overflow encountered in exp\n",
      "  return 1 / (1 + np.exp(-x))\n"
     ]
    }
   ],
   "source": [
    "Z1 = np.dot(X_test, W1)\n",
    "A1 = sigmoid(Z1)\n",
    "Z2 = np.dot(A1, W2)\n",
    "A2 = sigmoid(Z2)\n",
    "test_acc = accuracy(np.eye(output_size)[y_test], A2)\n",
    "print(\"Test accuracy: {}\".format(test_acc))\n"
   ]
  },
  {
   "cell_type": "markdown",
   "metadata": {
    "id": "b0uAIhZlLx6h"
   },
   "source": [
    "#**Well Done :)**"
   ]
  },
  {
   "cell_type": "code",
   "execution_count": null,
   "metadata": {},
   "outputs": [],
   "source": []
  }
 ],
 "metadata": {
  "colab": {
   "provenance": []
  },
  "kernelspec": {
   "display_name": "Python 3 (ipykernel)",
   "language": "python",
   "name": "python3"
  },
  "language_info": {
   "codemirror_mode": {
    "name": "ipython",
    "version": 3
   },
   "file_extension": ".py",
   "mimetype": "text/x-python",
   "name": "python",
   "nbconvert_exporter": "python",
   "pygments_lexer": "ipython3",
   "version": "3.9.13"
  }
 },
 "nbformat": 4,
 "nbformat_minor": 1
}
