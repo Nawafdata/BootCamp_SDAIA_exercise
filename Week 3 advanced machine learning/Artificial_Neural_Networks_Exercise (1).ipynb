{
 "cells": [
  {
   "cell_type": "markdown",
   "metadata": {},
   "source": [
    "# Artificial Neural Networks for Binary Classification Exercise\n",
    "\n",
    "In this notebook we will build an ANN to predict whether customers will churn (indicated by the column `Churn`).\n",
    "\n",
    "\n",
    "## Dataset\n",
    "- **Source**: [Kaggle](https://www.kaggle.com/datasets/ahmedgaitani/customer-churn-prediction-dataset/data).\n",
    "- **Variables of Interest**:\n",
    "  - `Churn`\n",
    "- As for the data card you should be able by now to figure the data out by your self :)\n",
    "\n",
    "## Preprocessing Steps\n",
    "\n",
    "1. **Dropping irrelevant columns**\n",
    "2. **Encoding categorical variables**\n",
    "3. **Data Splitting**\n",
    "\n",
    "## Model Architecture\n",
    "\n",
    "- **Input Layer**: Please specify here (the trainee should this this)\n",
    "- **Hidden Layers**: Please specify here (the trainee should fill this)\n",
    "- **Output Layer**: Please specify here (the trainee should fill this)\n",
    "\n",
    "## Training\n",
    "\n",
    "- **Optimizer**: Please specify here (the trainee should fill this)\n",
    "- **Loss Function**: Please specify here (the trainee should fill this)\n",
    "- **Metrics**: Please specify here (the trainee should fill this)\n",
    "- **Epochs**: Please specify here (the trainee should fill this)\n",
    "- **Batch Size**: Please specify here (the trainee should fill this)\n",
    "- **Validation Split**: Please specify here (the trainee should fill this)\n",
    "\n",
    "## Evaluation\n",
    "- Please specify here (the trainee should fill this)\n",
    "\n",
    "If you need to change the steps or add more please do so and explain why!"
   ]
  },
  {
   "cell_type": "markdown",
   "metadata": {},
   "source": [
    "# Import libraries"
   ]
  },
  {
   "cell_type": "code",
   "execution_count": 1,
   "metadata": {},
   "outputs": [],
   "source": [
    "import numpy as np\n",
    "import pandas as pd\n",
    "from sklearn.datasets import load_iris\n",
    "from sklearn.model_selection import train_test_split\n",
    "import matplotlib.pyplot as plt\n",
    "from sklearn.preprocessing import StandardScaler\n",
    "from tensorflow.keras.models import Sequential\n",
    "from tensorflow.keras.layers import Dense\n",
    "from tensorflow.keras.optimizers import Adam\n",
    "from sklearn.preprocessing import OneHotEncoder, LabelEncoder\n",
    "import seaborn as sn\n",
    "import matplotlib.pyplot as plt\n",
    "from sklearn.metrics import accuracy_score, precision_score, recall_score, f1_score, confusion_matrix"
   ]
  },
  {
   "cell_type": "markdown",
   "metadata": {},
   "source": [
    "# Load Data and EDA"
   ]
  },
  {
   "cell_type": "code",
   "execution_count": 2,
   "metadata": {},
   "outputs": [],
   "source": [
    "df=pd.read_csv(\"C:\\Churn_Modelling_Exercise.csv\")"
   ]
  },
  {
   "cell_type": "code",
   "execution_count": 3,
   "metadata": {},
   "outputs": [
    {
     "data": {
      "text/html": [
       "<div>\n",
       "<style scoped>\n",
       "    .dataframe tbody tr th:only-of-type {\n",
       "        vertical-align: middle;\n",
       "    }\n",
       "\n",
       "    .dataframe tbody tr th {\n",
       "        vertical-align: top;\n",
       "    }\n",
       "\n",
       "    .dataframe thead th {\n",
       "        text-align: right;\n",
       "    }\n",
       "</style>\n",
       "<table border=\"1\" class=\"dataframe\">\n",
       "  <thead>\n",
       "    <tr style=\"text-align: right;\">\n",
       "      <th></th>\n",
       "      <th>customerID</th>\n",
       "      <th>gender</th>\n",
       "      <th>SeniorCitizen</th>\n",
       "      <th>Partner</th>\n",
       "      <th>Dependents</th>\n",
       "      <th>tenure</th>\n",
       "      <th>PhoneService</th>\n",
       "      <th>MultipleLines</th>\n",
       "      <th>InternetService</th>\n",
       "      <th>OnlineSecurity</th>\n",
       "      <th>...</th>\n",
       "      <th>DeviceProtection</th>\n",
       "      <th>TechSupport</th>\n",
       "      <th>StreamingTV</th>\n",
       "      <th>StreamingMovies</th>\n",
       "      <th>Contract</th>\n",
       "      <th>PaperlessBilling</th>\n",
       "      <th>PaymentMethod</th>\n",
       "      <th>MonthlyCharges</th>\n",
       "      <th>TotalCharges</th>\n",
       "      <th>Churn</th>\n",
       "    </tr>\n",
       "  </thead>\n",
       "  <tbody>\n",
       "    <tr>\n",
       "      <th>0</th>\n",
       "      <td>0001-XXXX</td>\n",
       "      <td>Male</td>\n",
       "      <td>0</td>\n",
       "      <td>Yes</td>\n",
       "      <td>Yes</td>\n",
       "      <td>5</td>\n",
       "      <td>No</td>\n",
       "      <td>Yes</td>\n",
       "      <td>No</td>\n",
       "      <td>No</td>\n",
       "      <td>...</td>\n",
       "      <td>No</td>\n",
       "      <td>No</td>\n",
       "      <td>No</td>\n",
       "      <td>No internet service</td>\n",
       "      <td>Month-to-month</td>\n",
       "      <td>Yes</td>\n",
       "      <td>Credit card</td>\n",
       "      <td>27.43</td>\n",
       "      <td>137.15</td>\n",
       "      <td>Yes</td>\n",
       "    </tr>\n",
       "    <tr>\n",
       "      <th>1</th>\n",
       "      <td>0002-XXXX</td>\n",
       "      <td>Female</td>\n",
       "      <td>0</td>\n",
       "      <td>No</td>\n",
       "      <td>No</td>\n",
       "      <td>42</td>\n",
       "      <td>Yes</td>\n",
       "      <td>No phone service</td>\n",
       "      <td>DSL</td>\n",
       "      <td>Yes</td>\n",
       "      <td>...</td>\n",
       "      <td>No</td>\n",
       "      <td>No</td>\n",
       "      <td>No internet service</td>\n",
       "      <td>No internet service</td>\n",
       "      <td>Two year</td>\n",
       "      <td>No</td>\n",
       "      <td>Electronic check</td>\n",
       "      <td>38.28</td>\n",
       "      <td>1607.76</td>\n",
       "      <td>Yes</td>\n",
       "    </tr>\n",
       "    <tr>\n",
       "      <th>2</th>\n",
       "      <td>0003-XXXX</td>\n",
       "      <td>Male</td>\n",
       "      <td>0</td>\n",
       "      <td>No</td>\n",
       "      <td>No</td>\n",
       "      <td>61</td>\n",
       "      <td>Yes</td>\n",
       "      <td>No phone service</td>\n",
       "      <td>No</td>\n",
       "      <td>No</td>\n",
       "      <td>...</td>\n",
       "      <td>No</td>\n",
       "      <td>Yes</td>\n",
       "      <td>Yes</td>\n",
       "      <td>No</td>\n",
       "      <td>One year</td>\n",
       "      <td>No</td>\n",
       "      <td>Bank transfer</td>\n",
       "      <td>106.44</td>\n",
       "      <td>6492.84</td>\n",
       "      <td>Yes</td>\n",
       "    </tr>\n",
       "    <tr>\n",
       "      <th>3</th>\n",
       "      <td>0004-XXXX</td>\n",
       "      <td>Male</td>\n",
       "      <td>1</td>\n",
       "      <td>No</td>\n",
       "      <td>Yes</td>\n",
       "      <td>22</td>\n",
       "      <td>Yes</td>\n",
       "      <td>No</td>\n",
       "      <td>No</td>\n",
       "      <td>No internet service</td>\n",
       "      <td>...</td>\n",
       "      <td>Yes</td>\n",
       "      <td>No</td>\n",
       "      <td>No internet service</td>\n",
       "      <td>Yes</td>\n",
       "      <td>Month-to-month</td>\n",
       "      <td>No</td>\n",
       "      <td>Electronic check</td>\n",
       "      <td>92.49</td>\n",
       "      <td>2034.78</td>\n",
       "      <td>No</td>\n",
       "    </tr>\n",
       "    <tr>\n",
       "      <th>4</th>\n",
       "      <td>0005-XXXX</td>\n",
       "      <td>Male</td>\n",
       "      <td>1</td>\n",
       "      <td>Yes</td>\n",
       "      <td>Yes</td>\n",
       "      <td>21</td>\n",
       "      <td>No</td>\n",
       "      <td>No</td>\n",
       "      <td>DSL</td>\n",
       "      <td>No</td>\n",
       "      <td>...</td>\n",
       "      <td>No internet service</td>\n",
       "      <td>No</td>\n",
       "      <td>No</td>\n",
       "      <td>No internet service</td>\n",
       "      <td>One year</td>\n",
       "      <td>No</td>\n",
       "      <td>Bank transfer</td>\n",
       "      <td>19.63</td>\n",
       "      <td>412.23</td>\n",
       "      <td>Yes</td>\n",
       "    </tr>\n",
       "    <tr>\n",
       "      <th>...</th>\n",
       "      <td>...</td>\n",
       "      <td>...</td>\n",
       "      <td>...</td>\n",
       "      <td>...</td>\n",
       "      <td>...</td>\n",
       "      <td>...</td>\n",
       "      <td>...</td>\n",
       "      <td>...</td>\n",
       "      <td>...</td>\n",
       "      <td>...</td>\n",
       "      <td>...</td>\n",
       "      <td>...</td>\n",
       "      <td>...</td>\n",
       "      <td>...</td>\n",
       "      <td>...</td>\n",
       "      <td>...</td>\n",
       "      <td>...</td>\n",
       "      <td>...</td>\n",
       "      <td>...</td>\n",
       "      <td>...</td>\n",
       "      <td>...</td>\n",
       "    </tr>\n",
       "    <tr>\n",
       "      <th>295</th>\n",
       "      <td>0296-XXXX</td>\n",
       "      <td>Female</td>\n",
       "      <td>1</td>\n",
       "      <td>No</td>\n",
       "      <td>Yes</td>\n",
       "      <td>61</td>\n",
       "      <td>No</td>\n",
       "      <td>Yes</td>\n",
       "      <td>DSL</td>\n",
       "      <td>No</td>\n",
       "      <td>...</td>\n",
       "      <td>Yes</td>\n",
       "      <td>No internet service</td>\n",
       "      <td>No</td>\n",
       "      <td>No</td>\n",
       "      <td>One year</td>\n",
       "      <td>Yes</td>\n",
       "      <td>Electronic check</td>\n",
       "      <td>42.52</td>\n",
       "      <td>2593.72</td>\n",
       "      <td>No</td>\n",
       "    </tr>\n",
       "    <tr>\n",
       "      <th>296</th>\n",
       "      <td>0297-XXXX</td>\n",
       "      <td>Female</td>\n",
       "      <td>0</td>\n",
       "      <td>No</td>\n",
       "      <td>No</td>\n",
       "      <td>49</td>\n",
       "      <td>Yes</td>\n",
       "      <td>No phone service</td>\n",
       "      <td>DSL</td>\n",
       "      <td>No internet service</td>\n",
       "      <td>...</td>\n",
       "      <td>Yes</td>\n",
       "      <td>No internet service</td>\n",
       "      <td>Yes</td>\n",
       "      <td>Yes</td>\n",
       "      <td>Month-to-month</td>\n",
       "      <td>Yes</td>\n",
       "      <td>Mailed check</td>\n",
       "      <td>22.31</td>\n",
       "      <td>1093.19</td>\n",
       "      <td>Yes</td>\n",
       "    </tr>\n",
       "    <tr>\n",
       "      <th>297</th>\n",
       "      <td>0298-XXXX</td>\n",
       "      <td>Male</td>\n",
       "      <td>0</td>\n",
       "      <td>No</td>\n",
       "      <td>Yes</td>\n",
       "      <td>71</td>\n",
       "      <td>Yes</td>\n",
       "      <td>Yes</td>\n",
       "      <td>DSL</td>\n",
       "      <td>No internet service</td>\n",
       "      <td>...</td>\n",
       "      <td>Yes</td>\n",
       "      <td>Yes</td>\n",
       "      <td>No</td>\n",
       "      <td>Yes</td>\n",
       "      <td>Two year</td>\n",
       "      <td>No</td>\n",
       "      <td>Mailed check</td>\n",
       "      <td>59.57</td>\n",
       "      <td>4229.47</td>\n",
       "      <td>Yes</td>\n",
       "    </tr>\n",
       "    <tr>\n",
       "      <th>298</th>\n",
       "      <td>0299-XXXX</td>\n",
       "      <td>Male</td>\n",
       "      <td>1</td>\n",
       "      <td>Yes</td>\n",
       "      <td>Yes</td>\n",
       "      <td>1</td>\n",
       "      <td>Yes</td>\n",
       "      <td>Yes</td>\n",
       "      <td>No</td>\n",
       "      <td>Yes</td>\n",
       "      <td>...</td>\n",
       "      <td>No internet service</td>\n",
       "      <td>No internet service</td>\n",
       "      <td>Yes</td>\n",
       "      <td>Yes</td>\n",
       "      <td>Two year</td>\n",
       "      <td>No</td>\n",
       "      <td>Credit card</td>\n",
       "      <td>31.32</td>\n",
       "      <td>31.32</td>\n",
       "      <td>No</td>\n",
       "    </tr>\n",
       "    <tr>\n",
       "      <th>299</th>\n",
       "      <td>0300-XXXX</td>\n",
       "      <td>Female</td>\n",
       "      <td>1</td>\n",
       "      <td>Yes</td>\n",
       "      <td>Yes</td>\n",
       "      <td>13</td>\n",
       "      <td>Yes</td>\n",
       "      <td>Yes</td>\n",
       "      <td>DSL</td>\n",
       "      <td>No internet service</td>\n",
       "      <td>...</td>\n",
       "      <td>Yes</td>\n",
       "      <td>No</td>\n",
       "      <td>No internet service</td>\n",
       "      <td>Yes</td>\n",
       "      <td>Month-to-month</td>\n",
       "      <td>No</td>\n",
       "      <td>Electronic check</td>\n",
       "      <td>20.50</td>\n",
       "      <td>266.50</td>\n",
       "      <td>Yes</td>\n",
       "    </tr>\n",
       "  </tbody>\n",
       "</table>\n",
       "<p>300 rows × 21 columns</p>\n",
       "</div>"
      ],
      "text/plain": [
       "    customerID  gender  SeniorCitizen Partner Dependents  tenure PhoneService  \\\n",
       "0    0001-XXXX    Male              0     Yes        Yes       5           No   \n",
       "1    0002-XXXX  Female              0      No         No      42          Yes   \n",
       "2    0003-XXXX    Male              0      No         No      61          Yes   \n",
       "3    0004-XXXX    Male              1      No        Yes      22          Yes   \n",
       "4    0005-XXXX    Male              1     Yes        Yes      21           No   \n",
       "..         ...     ...            ...     ...        ...     ...          ...   \n",
       "295  0296-XXXX  Female              1      No        Yes      61           No   \n",
       "296  0297-XXXX  Female              0      No         No      49          Yes   \n",
       "297  0298-XXXX    Male              0      No        Yes      71          Yes   \n",
       "298  0299-XXXX    Male              1     Yes        Yes       1          Yes   \n",
       "299  0300-XXXX  Female              1     Yes        Yes      13          Yes   \n",
       "\n",
       "        MultipleLines InternetService       OnlineSecurity  ...  \\\n",
       "0                 Yes              No                   No  ...   \n",
       "1    No phone service             DSL                  Yes  ...   \n",
       "2    No phone service              No                   No  ...   \n",
       "3                  No              No  No internet service  ...   \n",
       "4                  No             DSL                   No  ...   \n",
       "..                ...             ...                  ...  ...   \n",
       "295               Yes             DSL                   No  ...   \n",
       "296  No phone service             DSL  No internet service  ...   \n",
       "297               Yes             DSL  No internet service  ...   \n",
       "298               Yes              No                  Yes  ...   \n",
       "299               Yes             DSL  No internet service  ...   \n",
       "\n",
       "        DeviceProtection          TechSupport          StreamingTV  \\\n",
       "0                     No                   No                   No   \n",
       "1                     No                   No  No internet service   \n",
       "2                     No                  Yes                  Yes   \n",
       "3                    Yes                   No  No internet service   \n",
       "4    No internet service                   No                   No   \n",
       "..                   ...                  ...                  ...   \n",
       "295                  Yes  No internet service                   No   \n",
       "296                  Yes  No internet service                  Yes   \n",
       "297                  Yes                  Yes                   No   \n",
       "298  No internet service  No internet service                  Yes   \n",
       "299                  Yes                   No  No internet service   \n",
       "\n",
       "         StreamingMovies        Contract PaperlessBilling     PaymentMethod  \\\n",
       "0    No internet service  Month-to-month              Yes       Credit card   \n",
       "1    No internet service        Two year               No  Electronic check   \n",
       "2                     No        One year               No     Bank transfer   \n",
       "3                    Yes  Month-to-month               No  Electronic check   \n",
       "4    No internet service        One year               No     Bank transfer   \n",
       "..                   ...             ...              ...               ...   \n",
       "295                   No        One year              Yes  Electronic check   \n",
       "296                  Yes  Month-to-month              Yes      Mailed check   \n",
       "297                  Yes        Two year               No      Mailed check   \n",
       "298                  Yes        Two year               No       Credit card   \n",
       "299                  Yes  Month-to-month               No  Electronic check   \n",
       "\n",
       "    MonthlyCharges  TotalCharges  Churn  \n",
       "0            27.43        137.15    Yes  \n",
       "1            38.28       1607.76    Yes  \n",
       "2           106.44       6492.84    Yes  \n",
       "3            92.49       2034.78     No  \n",
       "4            19.63        412.23    Yes  \n",
       "..             ...           ...    ...  \n",
       "295          42.52       2593.72     No  \n",
       "296          22.31       1093.19    Yes  \n",
       "297          59.57       4229.47    Yes  \n",
       "298          31.32         31.32     No  \n",
       "299          20.50        266.50    Yes  \n",
       "\n",
       "[300 rows x 21 columns]"
      ]
     },
     "execution_count": 3,
     "metadata": {},
     "output_type": "execute_result"
    }
   ],
   "source": [
    "df"
   ]
  },
  {
   "cell_type": "code",
   "execution_count": 4,
   "metadata": {},
   "outputs": [
    {
     "data": {
      "image/png": "[encoded data removed]",
      "text/plain": [
       "<Figure size 640x480 with 2 Axes>"
      ]
     },
     "metadata": {},
     "output_type": "display_data"
    }
   ],
   "source": [
    "corr_matrix = df.corr()\n",
    "\n",
    "sn.heatmap(corr_matrix, annot=True)\n",
    "plt.show()"
   ]
  },
  {
   "cell_type": "markdown",
   "metadata": {},
   "source": [
    "## Preprocessing"
   ]
  },
  {
   "cell_type": "markdown",
   "metadata": {},
   "source": [
    "### Drop unnecessary columns"
   ]
  },
  {
   "cell_type": "code",
   "execution_count": 5,
   "metadata": {},
   "outputs": [
    {
     "name": "stdout",
     "output_type": "stream",
     "text": [
      "<class 'pandas.core.frame.DataFrame'>\n",
      "RangeIndex: 300 entries, 0 to 299\n",
      "Data columns (total 21 columns):\n",
      " #   Column            Non-Null Count  Dtype  \n",
      "---  ------            --------------  -----  \n",
      " 0   customerID        300 non-null    object \n",
      " 1   gender            300 non-null    object \n",
      " 2   SeniorCitizen     300 non-null    int64  \n",
      " 3   Partner           300 non-null    object \n",
      " 4   Dependents        300 non-null    object \n",
      " 5   tenure            300 non-null    int64  \n",
      " 6   PhoneService      300 non-null    object \n",
      " 7   MultipleLines     300 non-null    object \n",
      " 8   InternetService   300 non-null    object \n",
      " 9   OnlineSecurity    300 non-null    object \n",
      " 10  OnlineBackup      300 non-null    object \n",
      " 11  DeviceProtection  300 non-null    object \n",
      " 12  TechSupport       300 non-null    object \n",
      " 13  StreamingTV       300 non-null    object \n",
      " 14  StreamingMovies   300 non-null    object \n",
      " 15  Contract          300 non-null    object \n",
      " 16  PaperlessBilling  300 non-null    object \n",
      " 17  PaymentMethod     300 non-null    object \n",
      " 18  MonthlyCharges    300 non-null    float64\n",
      " 19  TotalCharges      300 non-null    float64\n",
      " 20  Churn             300 non-null    object \n",
      "dtypes: float64(2), int64(2), object(17)\n",
      "memory usage: 49.3+ KB\n"
     ]
    }
   ],
   "source": [
    "df.info()"
   ]
  },
  {
   "cell_type": "markdown",
   "metadata": {},
   "source": [
    "### One-hot-encoder and Label-encoder"
   ]
  },
  {
   "cell_type": "code",
   "execution_count": 6,
   "metadata": {},
   "outputs": [],
   "source": [
    "for col in df.columns:\n",
    "    if df[col].dtype == 'object':\n",
    "        df[col] = df[col].astype('category')\n",
    "        df[col] = df[col].cat.codes"
   ]
  },
  {
   "cell_type": "markdown",
   "metadata": {},
   "source": [
    "## Selecting Features && Train Test Split"
   ]
  },
  {
   "cell_type": "markdown",
   "metadata": {},
   "source": [
    "### Selecting Features"
   ]
  },
  {
   "cell_type": "code",
   "execution_count": 7,
   "metadata": {},
   "outputs": [],
   "source": [
    "df = df.drop('customerID', axis=1)\n",
    "df = df.drop('MultipleLines', axis=1)"
   ]
  },
  {
   "cell_type": "code",
   "execution_count": 8,
   "metadata": {},
   "outputs": [
    {
     "name": "stdout",
     "output_type": "stream",
     "text": [
      "<class 'pandas.core.frame.DataFrame'>\n",
      "RangeIndex: 300 entries, 0 to 299\n",
      "Data columns (total 19 columns):\n",
      " #   Column            Non-Null Count  Dtype  \n",
      "---  ------            --------------  -----  \n",
      " 0   gender            300 non-null    int8   \n",
      " 1   SeniorCitizen     300 non-null    int64  \n",
      " 2   Partner           300 non-null    int8   \n",
      " 3   Dependents        300 non-null    int8   \n",
      " 4   tenure            300 non-null    int64  \n",
      " 5   PhoneService      300 non-null    int8   \n",
      " 6   InternetService   300 non-null    int8   \n",
      " 7   OnlineSecurity    300 non-null    int8   \n",
      " 8   OnlineBackup      300 non-null    int8   \n",
      " 9   DeviceProtection  300 non-null    int8   \n",
      " 10  TechSupport       300 non-null    int8   \n",
      " 11  StreamingTV       300 non-null    int8   \n",
      " 12  StreamingMovies   300 non-null    int8   \n",
      " 13  Contract          300 non-null    int8   \n",
      " 14  PaperlessBilling  300 non-null    int8   \n",
      " 15  PaymentMethod     300 non-null    int8   \n",
      " 16  MonthlyCharges    300 non-null    float64\n",
      " 17  TotalCharges      300 non-null    float64\n",
      " 18  Churn             300 non-null    int8   \n",
      "dtypes: float64(2), int64(2), int8(15)\n",
      "memory usage: 13.9 KB\n"
     ]
    }
   ],
   "source": [
    "df.info()"
   ]
  },
  {
   "cell_type": "code",
   "execution_count": 10,
   "metadata": {},
   "outputs": [],
   "source": [
    "X = df.drop('Churn', axis=1)\n",
    "y = df['Churn']"
   ]
  },
  {
   "cell_type": "markdown",
   "metadata": {},
   "source": [
    "### Train Test Split"
   ]
  },
  {
   "cell_type": "code",
   "execution_count": 11,
   "metadata": {},
   "outputs": [],
   "source": [
    "X_train, X_test, y_train, y_test = train_test_split(X, y, test_size=0.2, random_state=42)"
   ]
  },
  {
   "cell_type": "markdown",
   "metadata": {},
   "source": [
    "## Modeling"
   ]
  },
  {
   "cell_type": "markdown",
   "metadata": {},
   "source": [
    "### Creating the sequential model"
   ]
  },
  {
   "cell_type": "code",
   "execution_count": 21,
   "metadata": {},
   "outputs": [],
   "source": [
    "model = Sequential()"
   ]
  },
  {
   "cell_type": "markdown",
   "metadata": {},
   "source": [
    "### Adding the input layer"
   ]
  },
  {
   "cell_type": "code",
   "execution_count": 22,
   "metadata": {},
   "outputs": [],
   "source": [
    "model.add(Dense(units=X_train.shape[1], input_dim=X_train.shape[1], kernel_initializer='uniform',activation='relu'))"
   ]
  },
  {
   "cell_type": "code",
   "execution_count": 23,
   "metadata": {},
   "outputs": [
    {
     "data": {
      "text/plain": [
       "18"
      ]
     },
     "execution_count": 23,
     "metadata": {},
     "output_type": "execute_result"
    }
   ],
   "source": [
    "`"
   ]
  },
  {
   "cell_type": "markdown",
   "metadata": {},
   "source": [
    "### Adding the hidden layers"
   ]
  },
  {
   "cell_type": "code",
   "execution_count": 24,
   "metadata": {},
   "outputs": [],
   "source": [
    "model.add(Dense(units=6, activation='relu'))\n",
    "model.add(Dense(units=6, activation='relu'))"
   ]
  },
  {
   "cell_type": "markdown",
   "metadata": {},
   "source": [
    "### Adding the output layer"
   ]
  },
  {
   "cell_type": "code",
   "execution_count": 25,
   "metadata": {},
   "outputs": [],
   "source": [
    "\n",
    "model.add(Dense(units=1, activation='sigmoid'))"
   ]
  },
  {
   "cell_type": "markdown",
   "metadata": {},
   "source": [
    "### Compiling the model"
   ]
  },
  {
   "cell_type": "code",
   "execution_count": 26,
   "metadata": {},
   "outputs": [],
   "source": [
    "model.compile(optimizer='adam', loss='binary_crossentropy', metrics=['accuracy'])"
   ]
  },
  {
   "cell_type": "markdown",
   "metadata": {},
   "source": [
    "### Display model summary"
   ]
  },
  {
   "cell_type": "code",
   "execution_count": 27,
   "metadata": {},
   "outputs": [
    {
     "name": "stdout",
     "output_type": "stream",
     "text": [
      "Model: \"sequential_1\"\n",
      "_________________________________________________________________\n",
      " Layer (type)                Output Shape              Param #   \n",
      "=================================================================\n",
      " dense_4 (Dense)             (None, 18)                342       \n",
      "                                                                 \n",
      " dense_5 (Dense)             (None, 6)                 114       \n",
      "                                                                 \n",
      " dense_6 (Dense)             (None, 6)                 42        \n",
      "                                                                 \n",
      " dense_7 (Dense)             (None, 1)                 7         \n",
      "                                                                 \n",
      "=================================================================\n",
      "Total params: 505\n",
      "Trainable params: 505\n",
      "Non-trainable params: 0\n",
      "_________________________________________________________________\n"
     ]
    }
   ],
   "source": [
    "model.summary()"
   ]
  },
  {
   "cell_type": "markdown",
   "metadata": {},
   "source": [
    "### Fitting the model"
   ]
  },
  {
   "cell_type": "code",
   "execution_count": 28,
   "metadata": {},
   "outputs": [
    {
     "name": "stdout",
     "output_type": "stream",
     "text": [
      "Epoch 1/100\n",
      "20/20 [==============================] - 1s 11ms/step - loss: 2.0455 - accuracy: 0.4427 - val_loss: 1.0972 - val_accuracy: 0.5833\n",
      "Epoch 2/100\n",
      "20/20 [==============================] - 0s 4ms/step - loss: 0.9824 - accuracy: 0.4427 - val_loss: 0.7295 - val_accuracy: 0.6042\n",
      "Epoch 3/100\n",
      "20/20 [==============================] - 0s 3ms/step - loss: 0.7374 - accuracy: 0.4219 - val_loss: 0.6949 - val_accuracy: 0.5625\n",
      "Epoch 4/100\n",
      "20/20 [==============================] - 0s 3ms/step - loss: 0.6968 - accuracy: 0.4740 - val_loss: 0.6986 - val_accuracy: 0.3958\n",
      "Epoch 5/100\n",
      "20/20 [==============================] - 0s 3ms/step - loss: 0.6934 - accuracy: 0.5469 - val_loss: 0.6907 - val_accuracy: 0.4583\n",
      "Epoch 6/100\n",
      "20/20 [==============================] - 0s 3ms/step - loss: 0.6917 - accuracy: 0.5677 - val_loss: 0.7008 - val_accuracy: 0.3958\n",
      "Epoch 7/100\n",
      "20/20 [==============================] - 0s 4ms/step - loss: 0.6926 - accuracy: 0.5469 - val_loss: 0.7004 - val_accuracy: 0.3750\n",
      "Epoch 8/100\n",
      "20/20 [==============================] - 0s 3ms/step - loss: 0.6916 - accuracy: 0.5573 - val_loss: 0.7003 - val_accuracy: 0.3750\n",
      "Epoch 9/100\n",
      "20/20 [==============================] - 0s 3ms/step - loss: 0.6896 - accuracy: 0.5573 - val_loss: 0.7007 - val_accuracy: 0.3750\n",
      "Epoch 10/100\n",
      "20/20 [==============================] - 0s 3ms/step - loss: 0.6896 - accuracy: 0.5625 - val_loss: 0.7011 - val_accuracy: 0.3958\n",
      "Epoch 11/100\n",
      "20/20 [==============================] - 0s 4ms/step - loss: 0.6926 - accuracy: 0.5000 - val_loss: 0.6991 - val_accuracy: 0.3958\n",
      "Epoch 12/100\n",
      "20/20 [==============================] - 0s 4ms/step - loss: 0.6887 - accuracy: 0.5677 - val_loss: 0.7037 - val_accuracy: 0.3750\n",
      "Epoch 13/100\n",
      "20/20 [==============================] - 0s 4ms/step - loss: 0.6888 - accuracy: 0.5625 - val_loss: 0.7042 - val_accuracy: 0.3750\n",
      "Epoch 14/100\n",
      "20/20 [==============================] - 0s 3ms/step - loss: 0.6889 - accuracy: 0.5625 - val_loss: 0.7022 - val_accuracy: 0.3958\n",
      "Epoch 15/100\n",
      "20/20 [==============================] - 0s 3ms/step - loss: 0.6886 - accuracy: 0.5625 - val_loss: 0.7032 - val_accuracy: 0.3958\n",
      "Epoch 16/100\n",
      "20/20 [==============================] - 0s 4ms/step - loss: 0.6882 - accuracy: 0.5625 - val_loss: 0.7037 - val_accuracy: 0.3958\n",
      "Epoch 17/100\n",
      "20/20 [==============================] - 0s 3ms/step - loss: 0.6881 - accuracy: 0.5625 - val_loss: 0.7032 - val_accuracy: 0.4167\n",
      "Epoch 18/100\n",
      "20/20 [==============================] - 0s 4ms/step - loss: 0.6875 - accuracy: 0.5625 - val_loss: 0.7032 - val_accuracy: 0.3958\n",
      "Epoch 19/100\n",
      "20/20 [==============================] - 0s 4ms/step - loss: 0.6873 - accuracy: 0.5625 - val_loss: 0.7045 - val_accuracy: 0.3958\n",
      "Epoch 20/100\n",
      "20/20 [==============================] - 0s 3ms/step - loss: 0.6869 - accuracy: 0.5573 - val_loss: 0.7049 - val_accuracy: 0.3958\n",
      "Epoch 21/100\n",
      "20/20 [==============================] - 0s 5ms/step - loss: 0.6908 - accuracy: 0.5312 - val_loss: 0.7067 - val_accuracy: 0.3750\n",
      "Epoch 22/100\n",
      "20/20 [==============================] - 0s 3ms/step - loss: 0.6866 - accuracy: 0.5677 - val_loss: 0.7079 - val_accuracy: 0.3958\n",
      "Epoch 23/100\n",
      "20/20 [==============================] - 0s 3ms/step - loss: 0.6866 - accuracy: 0.5677 - val_loss: 0.7083 - val_accuracy: 0.3958\n",
      "Epoch 24/100\n",
      "20/20 [==============================] - 0s 4ms/step - loss: 0.6861 - accuracy: 0.5677 - val_loss: 0.7081 - val_accuracy: 0.3958\n",
      "Epoch 25/100\n",
      "20/20 [==============================] - 0s 3ms/step - loss: 0.6858 - accuracy: 0.5625 - val_loss: 0.7043 - val_accuracy: 0.3958\n",
      "Epoch 26/100\n",
      "20/20 [==============================] - 0s 3ms/step - loss: 0.6854 - accuracy: 0.5625 - val_loss: 0.7084 - val_accuracy: 0.3958\n",
      "Epoch 27/100\n",
      "20/20 [==============================] - 0s 4ms/step - loss: 0.6852 - accuracy: 0.5677 - val_loss: 0.7074 - val_accuracy: 0.3958\n",
      "Epoch 28/100\n",
      "20/20 [==============================] - 0s 4ms/step - loss: 0.6853 - accuracy: 0.5677 - val_loss: 0.7058 - val_accuracy: 0.3958\n",
      "Epoch 29/100\n",
      "20/20 [==============================] - 0s 4ms/step - loss: 0.6850 - accuracy: 0.5677 - val_loss: 0.7086 - val_accuracy: 0.3958\n",
      "Epoch 30/100\n",
      "20/20 [==============================] - 0s 3ms/step - loss: 0.6849 - accuracy: 0.5677 - val_loss: 0.7071 - val_accuracy: 0.3958\n",
      "Epoch 31/100\n",
      "20/20 [==============================] - 0s 4ms/step - loss: 0.6843 - accuracy: 0.5677 - val_loss: 0.7078 - val_accuracy: 0.3958\n",
      "Epoch 32/100\n",
      "20/20 [==============================] - 0s 3ms/step - loss: 0.6844 - accuracy: 0.5625 - val_loss: 0.7097 - val_accuracy: 0.3958\n",
      "Epoch 33/100\n",
      "20/20 [==============================] - 0s 3ms/step - loss: 0.6840 - accuracy: 0.5573 - val_loss: 0.7070 - val_accuracy: 0.3958\n",
      "Epoch 34/100\n",
      "20/20 [==============================] - 0s 4ms/step - loss: 0.6840 - accuracy: 0.5573 - val_loss: 0.7068 - val_accuracy: 0.3958\n",
      "Epoch 35/100\n",
      "20/20 [==============================] - 0s 4ms/step - loss: 0.6839 - accuracy: 0.5677 - val_loss: 0.7050 - val_accuracy: 0.3958\n",
      "Epoch 36/100\n",
      "20/20 [==============================] - 0s 4ms/step - loss: 0.6869 - accuracy: 0.5781 - val_loss: 0.7088 - val_accuracy: 0.3958\n",
      "Epoch 37/100\n",
      "20/20 [==============================] - 0s 4ms/step - loss: 0.6956 - accuracy: 0.5521 - val_loss: 0.7040 - val_accuracy: 0.6042\n",
      "Epoch 38/100\n",
      "20/20 [==============================] - 0s 3ms/step - loss: 0.7007 - accuracy: 0.5000 - val_loss: 0.7143 - val_accuracy: 0.3750\n",
      "Epoch 39/100\n",
      "20/20 [==============================] - 0s 3ms/step - loss: 0.6840 - accuracy: 0.5573 - val_loss: 0.7054 - val_accuracy: 0.4375\n",
      "Epoch 40/100\n",
      "20/20 [==============================] - 0s 3ms/step - loss: 0.6835 - accuracy: 0.5938 - val_loss: 0.7135 - val_accuracy: 0.3958\n",
      "Epoch 41/100\n",
      "20/20 [==============================] - 0s 3ms/step - loss: 0.6840 - accuracy: 0.5521 - val_loss: 0.7126 - val_accuracy: 0.3958\n",
      "Epoch 42/100\n",
      "20/20 [==============================] - 0s 3ms/step - loss: 0.6840 - accuracy: 0.5521 - val_loss: 0.7059 - val_accuracy: 0.3958\n",
      "Epoch 43/100\n",
      "20/20 [==============================] - 0s 3ms/step - loss: 0.6842 - accuracy: 0.5521 - val_loss: 0.7141 - val_accuracy: 0.3958\n",
      "Epoch 44/100\n",
      "20/20 [==============================] - 0s 3ms/step - loss: 0.6827 - accuracy: 0.5625 - val_loss: 0.7108 - val_accuracy: 0.3958\n",
      "Epoch 45/100\n",
      "20/20 [==============================] - 0s 3ms/step - loss: 0.6834 - accuracy: 0.5625 - val_loss: 0.7122 - val_accuracy: 0.3958\n",
      "Epoch 46/100\n",
      "20/20 [==============================] - 0s 3ms/step - loss: 0.6823 - accuracy: 0.5625 - val_loss: 0.7087 - val_accuracy: 0.3958\n",
      "Epoch 47/100\n",
      "20/20 [==============================] - 0s 3ms/step - loss: 0.6825 - accuracy: 0.5625 - val_loss: 0.7127 - val_accuracy: 0.3958\n",
      "Epoch 48/100\n",
      "20/20 [==============================] - 0s 3ms/step - loss: 0.6825 - accuracy: 0.5625 - val_loss: 0.7116 - val_accuracy: 0.3958\n",
      "Epoch 49/100\n",
      "20/20 [==============================] - 0s 4ms/step - loss: 0.6817 - accuracy: 0.5625 - val_loss: 0.7118 - val_accuracy: 0.3958\n",
      "Epoch 50/100\n",
      "20/20 [==============================] - 0s 3ms/step - loss: 0.6819 - accuracy: 0.5625 - val_loss: 0.7126 - val_accuracy: 0.3958\n",
      "Epoch 51/100\n",
      "20/20 [==============================] - 0s 3ms/step - loss: 0.6814 - accuracy: 0.5625 - val_loss: 0.7123 - val_accuracy: 0.3958\n",
      "Epoch 52/100\n",
      "20/20 [==============================] - 0s 3ms/step - loss: 0.6819 - accuracy: 0.5625 - val_loss: 0.7144 - val_accuracy: 0.3958\n",
      "Epoch 53/100\n",
      "20/20 [==============================] - 0s 3ms/step - loss: 0.6811 - accuracy: 0.5573 - val_loss: 0.7114 - val_accuracy: 0.3958\n",
      "Epoch 54/100\n",
      "20/20 [==============================] - 0s 3ms/step - loss: 0.6808 - accuracy: 0.5625 - val_loss: 0.7108 - val_accuracy: 0.3958\n",
      "Epoch 55/100\n",
      "20/20 [==============================] - 0s 3ms/step - loss: 0.6803 - accuracy: 0.5677 - val_loss: 0.7124 - val_accuracy: 0.3958\n",
      "Epoch 56/100\n",
      "20/20 [==============================] - 0s 4ms/step - loss: 0.6803 - accuracy: 0.5573 - val_loss: 0.7133 - val_accuracy: 0.3958\n",
      "Epoch 57/100\n",
      "20/20 [==============================] - 0s 3ms/step - loss: 0.6799 - accuracy: 0.5677 - val_loss: 0.7090 - val_accuracy: 0.3958\n",
      "Epoch 58/100\n",
      "20/20 [==============================] - 0s 4ms/step - loss: 0.6800 - accuracy: 0.5625 - val_loss: 0.7081 - val_accuracy: 0.3958\n",
      "Epoch 59/100\n",
      "20/20 [==============================] - 0s 4ms/step - loss: 0.6806 - accuracy: 0.5729 - val_loss: 0.7131 - val_accuracy: 0.3958\n",
      "Epoch 60/100\n",
      "20/20 [==============================] - 0s 3ms/step - loss: 0.6793 - accuracy: 0.5729 - val_loss: 0.7138 - val_accuracy: 0.3958\n",
      "Epoch 61/100\n",
      "20/20 [==============================] - 0s 3ms/step - loss: 0.6792 - accuracy: 0.5781 - val_loss: 0.7159 - val_accuracy: 0.3958\n",
      "Epoch 62/100\n",
      "20/20 [==============================] - 0s 4ms/step - loss: 0.6793 - accuracy: 0.5885 - val_loss: 0.6943 - val_accuracy: 0.5208\n",
      "Epoch 63/100\n",
      "20/20 [==============================] - 0s 4ms/step - loss: 0.7173 - accuracy: 0.5000 - val_loss: 0.7019 - val_accuracy: 0.4583\n",
      "Epoch 64/100\n",
      "20/20 [==============================] - 0s 3ms/step - loss: 0.6895 - accuracy: 0.5156 - val_loss: 0.7184 - val_accuracy: 0.3958\n",
      "Epoch 65/100\n",
      "20/20 [==============================] - 0s 3ms/step - loss: 0.6829 - accuracy: 0.5573 - val_loss: 0.7188 - val_accuracy: 0.3958\n",
      "Epoch 66/100\n",
      "20/20 [==============================] - 0s 3ms/step - loss: 0.6827 - accuracy: 0.5573 - val_loss: 0.7182 - val_accuracy: 0.3958\n",
      "Epoch 67/100\n",
      "20/20 [==============================] - 0s 4ms/step - loss: 0.6821 - accuracy: 0.5573 - val_loss: 0.7174 - val_accuracy: 0.3958\n",
      "Epoch 68/100\n",
      "20/20 [==============================] - 0s 3ms/step - loss: 0.6806 - accuracy: 0.5573 - val_loss: 0.7139 - val_accuracy: 0.3958\n",
      "Epoch 69/100\n",
      "20/20 [==============================] - 0s 3ms/step - loss: 0.6785 - accuracy: 0.5729 - val_loss: 0.7121 - val_accuracy: 0.4375\n",
      "Epoch 70/100\n",
      "20/20 [==============================] - 0s 3ms/step - loss: 0.6785 - accuracy: 0.5938 - val_loss: 0.7100 - val_accuracy: 0.4583\n",
      "Epoch 71/100\n",
      "20/20 [==============================] - 0s 3ms/step - loss: 0.6773 - accuracy: 0.5938 - val_loss: 0.7152 - val_accuracy: 0.4167\n",
      "Epoch 72/100\n",
      "20/20 [==============================] - 0s 3ms/step - loss: 0.6773 - accuracy: 0.5938 - val_loss: 0.7118 - val_accuracy: 0.4583\n",
      "Epoch 73/100\n",
      "20/20 [==============================] - 0s 3ms/step - loss: 0.6767 - accuracy: 0.6042 - val_loss: 0.7085 - val_accuracy: 0.4583\n",
      "Epoch 74/100\n",
      "20/20 [==============================] - 0s 4ms/step - loss: 0.6770 - accuracy: 0.6198 - val_loss: 0.7137 - val_accuracy: 0.4375\n",
      "Epoch 75/100\n",
      "20/20 [==============================] - 0s 4ms/step - loss: 0.6769 - accuracy: 0.6042 - val_loss: 0.7121 - val_accuracy: 0.4375\n",
      "Epoch 76/100\n",
      "20/20 [==============================] - 0s 3ms/step - loss: 0.6758 - accuracy: 0.6146 - val_loss: 0.6997 - val_accuracy: 0.4792\n",
      "Epoch 77/100\n",
      "20/20 [==============================] - 0s 3ms/step - loss: 0.6767 - accuracy: 0.6250 - val_loss: 0.7058 - val_accuracy: 0.4583\n",
      "Epoch 78/100\n",
      "20/20 [==============================] - 0s 3ms/step - loss: 0.6767 - accuracy: 0.6302 - val_loss: 0.7061 - val_accuracy: 0.4375\n",
      "Epoch 79/100\n",
      "20/20 [==============================] - 0s 3ms/step - loss: 0.6762 - accuracy: 0.6042 - val_loss: 0.7195 - val_accuracy: 0.4167\n",
      "Epoch 80/100\n",
      "20/20 [==============================] - 0s 3ms/step - loss: 0.6751 - accuracy: 0.5938 - val_loss: 0.7126 - val_accuracy: 0.4375\n",
      "Epoch 81/100\n",
      "20/20 [==============================] - 0s 3ms/step - loss: 0.6742 - accuracy: 0.6146 - val_loss: 0.7140 - val_accuracy: 0.4375\n",
      "Epoch 82/100\n",
      "20/20 [==============================] - 0s 3ms/step - loss: 0.6741 - accuracy: 0.6094 - val_loss: 0.7149 - val_accuracy: 0.4375\n",
      "Epoch 83/100\n",
      "20/20 [==============================] - 0s 3ms/step - loss: 0.6722 - accuracy: 0.6458 - val_loss: 0.6973 - val_accuracy: 0.4583\n",
      "Epoch 84/100\n",
      "20/20 [==============================] - 0s 3ms/step - loss: 0.6753 - accuracy: 0.6042 - val_loss: 0.6975 - val_accuracy: 0.4583\n",
      "Epoch 85/100\n",
      "20/20 [==============================] - 0s 3ms/step - loss: 0.6734 - accuracy: 0.6302 - val_loss: 0.7142 - val_accuracy: 0.4375\n",
      "Epoch 86/100\n",
      "20/20 [==============================] - 0s 3ms/step - loss: 0.6729 - accuracy: 0.6198 - val_loss: 0.7147 - val_accuracy: 0.4375\n",
      "Epoch 87/100\n",
      "20/20 [==============================] - 0s 3ms/step - loss: 0.6718 - accuracy: 0.6510 - val_loss: 0.7123 - val_accuracy: 0.4375\n",
      "Epoch 88/100\n",
      "20/20 [==============================] - 0s 3ms/step - loss: 0.6721 - accuracy: 0.6302 - val_loss: 0.7078 - val_accuracy: 0.4375\n",
      "Epoch 89/100\n",
      "20/20 [==============================] - 0s 3ms/step - loss: 0.6710 - accuracy: 0.6667 - val_loss: 0.7136 - val_accuracy: 0.4375\n",
      "Epoch 90/100\n",
      "20/20 [==============================] - 0s 3ms/step - loss: 0.6774 - accuracy: 0.5885 - val_loss: 0.7216 - val_accuracy: 0.4375\n",
      "Epoch 91/100\n",
      "20/20 [==============================] - 0s 3ms/step - loss: 0.6702 - accuracy: 0.6406 - val_loss: 0.7100 - val_accuracy: 0.4167\n",
      "Epoch 92/100\n",
      "20/20 [==============================] - 0s 3ms/step - loss: 0.6706 - accuracy: 0.6250 - val_loss: 0.6895 - val_accuracy: 0.5208\n",
      "Epoch 93/100\n",
      "20/20 [==============================] - 0s 3ms/step - loss: 0.6734 - accuracy: 0.5781 - val_loss: 0.7079 - val_accuracy: 0.4375\n",
      "Epoch 94/100\n",
      "20/20 [==============================] - 0s 3ms/step - loss: 0.6731 - accuracy: 0.6198 - val_loss: 0.7162 - val_accuracy: 0.4583\n",
      "Epoch 95/100\n",
      "20/20 [==============================] - 0s 3ms/step - loss: 0.6701 - accuracy: 0.6250 - val_loss: 0.7130 - val_accuracy: 0.4583\n",
      "Epoch 96/100\n",
      "20/20 [==============================] - 0s 3ms/step - loss: 0.6694 - accuracy: 0.6458 - val_loss: 0.7088 - val_accuracy: 0.4375\n",
      "Epoch 97/100\n",
      "20/20 [==============================] - 0s 3ms/step - loss: 0.6697 - accuracy: 0.6250 - val_loss: 0.7189 - val_accuracy: 0.4375\n",
      "Epoch 98/100\n",
      "20/20 [==============================] - 0s 4ms/step - loss: 0.6689 - accuracy: 0.6406 - val_loss: 0.7088 - val_accuracy: 0.4583\n",
      "Epoch 99/100\n",
      "20/20 [==============================] - 0s 4ms/step - loss: 0.6690 - accuracy: 0.6250 - val_loss: 0.7147 - val_accuracy: 0.4167\n",
      "Epoch 100/100\n",
      "20/20 [==============================] - 0s 3ms/step - loss: 0.6660 - accuracy: 0.6615 - val_loss: 0.7093 - val_accuracy: 0.4583\n"
     ]
    },
    {
     "data": {
      "text/plain": [
       "<keras.callbacks.History at 0x272f621df70>"
      ]
     },
     "execution_count": 28,
     "metadata": {},
     "output_type": "execute_result"
    }
   ],
   "source": [
    "model.fit(X_train, y_train, batch_size=10, epochs=100, validation_split=0.2)"
   ]
  },
  {
   "cell_type": "markdown",
   "metadata": {},
   "source": [
    "## Evaluating the model"
   ]
  },
  {
   "cell_type": "code",
   "execution_count": 19,
   "metadata": {},
   "outputs": [
    {
     "name": "stdout",
     "output_type": "stream",
     "text": [
      "2/2 [==============================] - 0s 4ms/step - loss: 0.7051 - accuracy: 0.5667\n"
     ]
    },
    {
     "data": {
      "text/plain": [
       "[0.7051200866699219, 0.5666666626930237]"
      ]
     },
     "execution_count": 19,
     "metadata": {},
     "output_type": "execute_result"
    }
   ],
   "source": [
    "# Evaluate the model\n",
    "model.evaluate(X_test, y_test)"
   ]
  },
  {
   "cell_type": "code",
   "execution_count": null,
   "metadata": {},
   "outputs": [],
   "source": []
  }
 ],
 "metadata": {
  "kernelspec": {
   "display_name": "Python 3 (ipykernel)",
   "language": "python",
   "name": "python3"
  },
  "language_info": {
   "codemirror_mode": {
    "name": "ipython",
    "version": 3
   },
   "file_extension": ".py",
   "mimetype": "text/x-python",
   "name": "python",
   "nbconvert_exporter": "python",
   "pygments_lexer": "ipython3",
   "version": "3.9.13"
  }
 },
 "nbformat": 4,
 "nbformat_minor": 2
}
